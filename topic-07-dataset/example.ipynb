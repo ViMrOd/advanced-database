{
 "cells": [
  {
   "cell_type": "code",
   "execution_count": 1,
   "id": "27fc7e4f",
   "metadata": {},
   "outputs": [],
   "source": [
    "import dataset"
   ]
  },
  {
   "cell_type": "code",
   "execution_count": null,
   "id": "9c655b90",
   "metadata": {},
   "outputs": [],
   "source": [
    "# https://dataset.readthedocs.io/en/latest/quickstart.html\n",
    "\n",
    "# https://blog.miguelgrinberg.com/post/the-flask-mega-tutorial-part-i-hello-world"
   ]
  },
  {
   "cell_type": "code",
   "execution_count": 3,
   "id": "2bae1d73",
   "metadata": {},
   "outputs": [],
   "source": [
    "# connecting to a SQLite database\n",
    "db = dataset.connect('sqlite:///mydatabase.db')"
   ]
  },
  {
   "cell_type": "code",
   "execution_count": 4,
   "id": "2e7c2b4b",
   "metadata": {},
   "outputs": [],
   "source": [
    "# get a reference to the table 'user'\n",
    "table = db['user']"
   ]
  },
  {
   "cell_type": "code",
   "execution_count": 5,
   "id": "980f7114",
   "metadata": {},
   "outputs": [
    {
     "data": {
      "text/plain": [
       "1"
      ]
     },
     "execution_count": 5,
     "metadata": {},
     "output_type": "execute_result"
    }
   ],
   "source": [
    "# Insert a new record.\n",
    "table.insert(dict(name='John Doe', age=46, country='China'))\n"
   ]
  },
  {
   "cell_type": "code",
   "execution_count": 6,
   "id": "3c5f844b",
   "metadata": {},
   "outputs": [
    {
     "data": {
      "text/plain": [
       "1"
      ]
     },
     "execution_count": 6,
     "metadata": {},
     "output_type": "execute_result"
    }
   ],
   "source": [
    "table.update(dict(name='John Doe', country=\"Panama\"), ['name'])"
   ]
  },
  {
   "cell_type": "code",
   "execution_count": 6,
   "id": "7dd6d387",
   "metadata": {},
   "outputs": [],
   "source": [
    "db.begin()\n",
    "try:\n",
    "    db['user'].insert(dict(name='John Doe', age=46, country='China'))\n",
    "    db.commit()\n",
    "except:\n",
    "    db.rollback()"
   ]
  },
  {
   "cell_type": "code",
   "execution_count": 7,
   "id": "2853e780",
   "metadata": {},
   "outputs": [
    {
     "data": {
      "text/plain": [
       "['user']"
      ]
     },
     "execution_count": 7,
     "metadata": {},
     "output_type": "execute_result"
    }
   ],
   "source": [
    "db.tables"
   ]
  },
  {
   "cell_type": "code",
   "execution_count": 8,
   "id": "c127318a",
   "metadata": {},
   "outputs": [
    {
     "data": {
      "text/plain": [
       "['id', 'name', 'age', 'country']"
      ]
     },
     "execution_count": 8,
     "metadata": {},
     "output_type": "execute_result"
    }
   ],
   "source": [
    "db['user'].columns"
   ]
  },
  {
   "cell_type": "code",
   "execution_count": 9,
   "id": "f94e4a4c",
   "metadata": {},
   "outputs": [
    {
     "data": {
      "text/plain": [
       "[OrderedDict([('id', 1),\n",
       "              ('name', 'John Doe'),\n",
       "              ('age', 46),\n",
       "              ('country', 'China')]),\n",
       " OrderedDict([('id', 2),\n",
       "              ('name', 'John Doe'),\n",
       "              ('age', 46),\n",
       "              ('country', 'China')])]"
      ]
     },
     "execution_count": 9,
     "metadata": {},
     "output_type": "execute_result"
    }
   ],
   "source": [
    "list(db['user'].all())"
   ]
  },
  {
   "cell_type": "code",
   "execution_count": 11,
   "id": "a9000336",
   "metadata": {},
   "outputs": [
    {
     "data": {
      "text/plain": [
       "{'id': 1, 'name': 'John Doe', 'age': 46, 'country': 'China'}"
      ]
     },
     "execution_count": 11,
     "metadata": {},
     "output_type": "execute_result"
    }
   ],
   "source": [
    "john = table.find_one(name='John Doe')\n",
    "dict(john)"
   ]
  }
 ],
 "metadata": {
  "kernelspec": {
   "display_name": "Python 3",
   "language": "python",
   "name": "python3"
  },
  "language_info": {
   "codemirror_mode": {
    "name": "ipython",
    "version": 3
   },
   "file_extension": ".py",
   "mimetype": "text/x-python",
   "name": "python",
   "nbconvert_exporter": "python",
   "pygments_lexer": "ipython3",
   "version": "3.12.1"
  }
 },
 "nbformat": 4,
 "nbformat_minor": 5
}

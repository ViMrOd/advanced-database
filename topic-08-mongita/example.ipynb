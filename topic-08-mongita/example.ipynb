{
 "cells": [
  {
   "cell_type": "code",
   "execution_count": null,
   "id": "a0bff755",
   "metadata": {},
   "outputs": [],
   "source": [
    "# pip install mongita\n",
    "\n",
    "from mongita import MongitaClientDisk"
   ]
  },
  {
   "cell_type": "code",
   "execution_count": 3,
   "id": "fec4e032",
   "metadata": {},
   "outputs": [],
   "source": [
    "client = MongitaClientDisk()"
   ]
  },
  {
   "cell_type": "code",
   "execution_count": 4,
   "id": "a345c081",
   "metadata": {},
   "outputs": [],
   "source": [
    "db = client[\"test_db\"]"
   ]
  },
  {
   "cell_type": "code",
   "execution_count": 5,
   "id": "435afff6",
   "metadata": {},
   "outputs": [],
   "source": [
    "student_collection = db[\"students\"]"
   ]
  },
  {
   "cell_type": "code",
   "execution_count": 8,
   "id": "cc424ed5",
   "metadata": {},
   "outputs": [
    {
     "data": {
      "text/plain": [
       "<mongita.results.InsertManyResult at 0x7818601649e0>"
      ]
     },
     "execution_count": 8,
     "metadata": {},
     "output_type": "execute_result"
    }
   ],
   "source": [
    "student_collection.insert_many([\n",
    "    {\"name\":\"Dorothy\",\"major\":\"dog studies\"},\n",
    "    {\"name\":\"Sandy\",\"major\":\"applied laziness\"},\n",
    "    {\"name\":\"Nemo\",\"major\":\"swimming\",\"needs\":\"aquarium\"}\n",
    "])"
   ]
  },
  {
   "cell_type": "code",
   "execution_count": 20,
   "id": "6a260e05",
   "metadata": {},
   "outputs": [
    {
     "data": {
      "text/plain": [
       "[{'name': 'Dorothy',\n",
       "  'major': 'dog studies',\n",
       "  '_id': ObjectId('68f65ccdd00cd224012eec71')},\n",
       " {'name': 'Nemo',\n",
       "  'major': 'synchronized swimming',\n",
       "  'needs': 'aquarium',\n",
       "  '_id': ObjectId('68f65ccdd00cd224012eec73')}]"
      ]
     },
     "execution_count": 20,
     "metadata": {},
     "output_type": "execute_result"
    }
   ],
   "source": [
    "result = student_collection.find()\n",
    "list(result)"
   ]
  },
  {
   "cell_type": "code",
   "execution_count": 11,
   "id": "efcd02c1",
   "metadata": {},
   "outputs": [
    {
     "data": {
      "text/plain": [
       "[{'name': 'Dorothy',\n",
       "  'major': 'dog studies',\n",
       "  '_id': ObjectId('68f65ccdd00cd224012eec71')},\n",
       " {'name': 'Nemo',\n",
       "  'major': 'swimming',\n",
       "  'needs': 'aquarium',\n",
       "  '_id': ObjectId('68f65ccdd00cd224012eec73')}]"
      ]
     },
     "execution_count": 11,
     "metadata": {},
     "output_type": "execute_result"
    }
   ],
   "source": [
    "results = student_collection.find({\"name\":{\"$lt\":\"Sandy\"}})\n",
    "list(results)"
   ]
  },
  {
   "cell_type": "code",
   "execution_count": 18,
   "id": "20fec6c4",
   "metadata": {},
   "outputs": [
    {
     "data": {
      "text/plain": [
       "{'name': 'Nemo',\n",
       " 'major': 'synchronized swimming',\n",
       " 'needs': 'aquarium',\n",
       " '_id': ObjectId('68f65ccdd00cd224012eec73')}"
      ]
     },
     "execution_count": 18,
     "metadata": {},
     "output_type": "execute_result"
    }
   ],
   "source": [
    "list(student_collection.find({\"name\":\"Nemo\"}))[0]"
   ]
  },
  {
   "cell_type": "code",
   "execution_count": 17,
   "id": "7fa12d72",
   "metadata": {},
   "outputs": [
    {
     "data": {
      "text/plain": [
       "<mongita.results.UpdateResult at 0x7818603627e0>"
      ]
     },
     "execution_count": 17,
     "metadata": {},
     "output_type": "execute_result"
    }
   ],
   "source": [
    "student_collection.update_one({\"name\":\"Nemo\"},{\"$set\":{\"major\":\"synchronized swimming\"}})"
   ]
  },
  {
   "cell_type": "code",
   "execution_count": 19,
   "id": "10104cd4",
   "metadata": {},
   "outputs": [
    {
     "data": {
      "text/plain": [
       "<mongita.results.DeleteResult at 0x7818476bebd0>"
      ]
     },
     "execution_count": 19,
     "metadata": {},
     "output_type": "execute_result"
    }
   ],
   "source": [
    "student_collection.delete_one({\"name\":\"Sandy\"})"
   ]
  }
 ],
 "metadata": {
  "kernelspec": {
   "display_name": "Python 3",
   "language": "python",
   "name": "python3"
  },
  "language_info": {
   "codemirror_mode": {
    "name": "ipython",
    "version": 3
   },
   "file_extension": ".py",
   "mimetype": "text/x-python",
   "name": "python",
   "nbconvert_exporter": "python",
   "pygments_lexer": "ipython3",
   "version": "3.12.1"
  }
 },
 "nbformat": 4,
 "nbformat_minor": 5
}

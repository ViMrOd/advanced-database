{
 "cells": [
  {
   "cell_type": "code",
   "execution_count": null,
   "id": "32b8b43d",
   "metadata": {
    "vscode": {
     "languageId": "plaintext"
    }
   },
   "outputs": [],
   "source": [
    "def count_up():\n",
    "   for i in range(0,100):\n",
    "       print(i+1)"
   ]
  }
 ],
 "metadata": {
  "language_info": {
   "name": "python"
  }
 },
 "nbformat": 4,
 "nbformat_minor": 5
}

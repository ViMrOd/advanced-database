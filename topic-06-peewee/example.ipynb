{
 "cells": [
  {
   "cell_type": "code",
   "execution_count": null,
   "id": "7bbdea1c",
   "metadata": {},
   "outputs": [
    {
     "name": "stdout",
     "output_type": "stream",
     "text": [
      "12\n"
     ]
    }
   ],
   "source": [
    "# SQL ORM Peewee Demo"
   ]
  },
  {
   "cell_type": "code",
   "execution_count": 14,
   "id": "3c25875e",
   "metadata": {},
   "outputs": [],
   "source": [
    "from peewee import *\n",
    "\n",
    "db = SqliteDatabase('people.db')\n",
    "\n",
    "class Person(Model):\n",
    "    name = CharField()\n",
    "    birthday = DateField()\n",
    "\n",
    "    class Meta:\n",
    "        database = db # This model uses the \"people.db\" database."
   ]
  },
  {
   "cell_type": "code",
   "execution_count": 15,
   "id": "8c2932e0",
   "metadata": {},
   "outputs": [],
   "source": [
    "class Pet(Model):\n",
    "    owner = ForeignKeyField(Person, backref='pets')\n",
    "    name = CharField()\n",
    "    animal_type = CharField()\n",
    "\n",
    "    class Meta:\n",
    "        database = db # this model uses the \"people.db\" database"
   ]
  },
  {
   "cell_type": "code",
   "execution_count": 16,
   "id": "642328e1",
   "metadata": {},
   "outputs": [
    {
     "data": {
      "text/plain": [
       "True"
      ]
     },
     "execution_count": 16,
     "metadata": {},
     "output_type": "execute_result"
    }
   ],
   "source": [
    "db.connect()"
   ]
  },
  {
   "cell_type": "code",
   "execution_count": 17,
   "id": "f78257d8",
   "metadata": {},
   "outputs": [],
   "source": [
    "db.create_tables([Person, Pet])"
   ]
  },
  {
   "cell_type": "code",
   "execution_count": null,
   "id": "d8ee624b",
   "metadata": {},
   "outputs": [
    {
     "data": {
      "text/plain": [
       "1"
      ]
     },
     "execution_count": 18,
     "metadata": {},
     "output_type": "execute_result"
    }
   ],
   "source": [
    "from datetime import date\n",
    "uncle_bob = Person(name='Bob', birthday=date(1960, 1, 15))\n",
    "uncle_bob.save() # bob is now stored in the database\n",
    "# Returns:"
   ]
  },
  {
   "cell_type": "code",
   "execution_count": 19,
   "id": "93991277",
   "metadata": {},
   "outputs": [],
   "source": [
    "grandma = Person.create(name='Grandma', birthday=date(1935, 3, 1))\n",
    "herb = Person.create(name='Herb', birthday=date(1950, 5, 5))"
   ]
  },
  {
   "cell_type": "code",
   "execution_count": 20,
   "id": "dea32fd8",
   "metadata": {},
   "outputs": [
    {
     "data": {
      "text/plain": [
       "1"
      ]
     },
     "execution_count": 20,
     "metadata": {},
     "output_type": "execute_result"
    }
   ],
   "source": [
    "grandma.name = 'Grandma L.'\n",
    "grandma.save()"
   ]
  },
  {
   "cell_type": "code",
   "execution_count": 21,
   "id": "0292a83d",
   "metadata": {},
   "outputs": [],
   "source": [
    "bob_kitty = Pet.create(owner=uncle_bob, name='Kitty', animal_type='cat')\n",
    "herb_fido = Pet.create(owner=herb, name='Fido', animal_type='dog')\n",
    "herb_mittens = Pet.create(owner=herb, name='Mittens', animal_type='cat')\n",
    "herb_mittens_jr = Pet.create(owner=herb, name='Mittens Jr', animal_type='cat')"
   ]
  },
  {
   "cell_type": "code",
   "execution_count": 22,
   "id": "75ffbbc2",
   "metadata": {},
   "outputs": [
    {
     "data": {
      "text/plain": [
       "1"
      ]
     },
     "execution_count": 22,
     "metadata": {},
     "output_type": "execute_result"
    }
   ],
   "source": [
    "herb_mittens.delete_instance() # he had a great life"
   ]
  },
  {
   "cell_type": "code",
   "execution_count": 23,
   "id": "c31138fd",
   "metadata": {},
   "outputs": [
    {
     "data": {
      "text/plain": [
       "1"
      ]
     },
     "execution_count": 23,
     "metadata": {},
     "output_type": "execute_result"
    }
   ],
   "source": [
    "herb_fido.owner = uncle_bob\n",
    "herb_fido.save()"
   ]
  },
  {
   "cell_type": "code",
   "execution_count": 24,
   "id": "a6da92a7",
   "metadata": {},
   "outputs": [],
   "source": [
    "grandma = Person.select().where(Person.name == 'Grandma L.').get()"
   ]
  },
  {
   "cell_type": "code",
   "execution_count": 26,
   "id": "ff40792b",
   "metadata": {},
   "outputs": [
    {
     "data": {
      "text/plain": [
       "'Grandma L.'"
      ]
     },
     "execution_count": 26,
     "metadata": {},
     "output_type": "execute_result"
    }
   ],
   "source": [
    "grandma.name"
   ]
  },
  {
   "cell_type": "code",
   "execution_count": 27,
   "id": "2688a34f",
   "metadata": {},
   "outputs": [],
   "source": [
    "grandma = Person.get(Person.name == 'Grandma L.')"
   ]
  },
  {
   "cell_type": "code",
   "execution_count": 28,
   "id": "e819a898",
   "metadata": {},
   "outputs": [
    {
     "name": "stdout",
     "output_type": "stream",
     "text": [
      "Bob\n",
      "Grandma L.\n",
      "Herb\n"
     ]
    }
   ],
   "source": [
    "for person in Person.select():\n",
    "    print(person.name)\n"
   ]
  },
  {
   "cell_type": "code",
   "execution_count": 29,
   "id": "4a2d1720",
   "metadata": {},
   "outputs": [
    {
     "name": "stdout",
     "output_type": "stream",
     "text": [
      "Kitty Bob\n",
      "Mittens Jr Herb\n"
     ]
    }
   ],
   "source": [
    "query = Pet.select().where(Pet.animal_type == 'cat')\n",
    "for pet in query:\n",
    "    print(pet.name, pet.owner.name)\n",
    "\n",
    "# prints:\n",
    "# Kitty Bob\n",
    "# Mittens Jr Herb"
   ]
  },
  {
   "cell_type": "code",
   "execution_count": 30,
   "id": "88195f3d",
   "metadata": {},
   "outputs": [
    {
     "name": "stdout",
     "output_type": "stream",
     "text": [
      "Kitty Bob\n",
      "Mittens Jr Herb\n"
     ]
    }
   ],
   "source": [
    "query = (Pet\n",
    "         .select(Pet, Person)\n",
    "         .join(Person)\n",
    "         .where(Pet.animal_type == 'cat'))\n",
    "\n",
    "for pet in query:\n",
    "    print(pet.name, pet.owner.name)\n"
   ]
  }
 ],
 "metadata": {
  "kernelspec": {
   "display_name": "Python 3",
   "language": "python",
   "name": "python3"
  },
  "language_info": {
   "codemirror_mode": {
    "name": "ipython",
    "version": 3
   },
   "file_extension": ".py",
   "mimetype": "text/x-python",
   "name": "python",
   "nbconvert_exporter": "python",
   "pygments_lexer": "ipython3",
   "version": "3.12.1"
  }
 },
 "nbformat": 4,
 "nbformat_minor": 5
}
